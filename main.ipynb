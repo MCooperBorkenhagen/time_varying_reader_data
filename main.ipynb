{
 "cells": [
  {
   "cell_type": "markdown",
   "metadata": {},
   "source": [
    "The methods here require data that can be found in the project's cloud repository. Contact MCB for access to that."
   ]
  },
  {
   "cell_type": "code",
   "execution_count": 6,
   "metadata": {},
   "outputs": [],
   "source": [
    "import json\n",
    "\n",
    "with open('data/REPS.json', 'r') as f:\n",
    "    REPS = json.load(f)"
   ]
  },
  {
   "cell_type": "code",
   "execution_count": 10,
   "metadata": {},
   "outputs": [],
   "source": [
    "def get(data, word, representation = 'phon_output'):\n",
    "\n",
    "    \"\"\"\n",
    "    Get the representation from the data for a word.\n",
    "\n",
    "    The data are those that are used in training and testing the\n",
    "    temporal model for time varying reader. Words here are those\n",
    "    letter strings for which we have orthographic inputs and\n",
    "    phonological inputs/ outputs. Representations here are\n",
    "    either orthographic inputs, phonological inputs (SOS patterns),\n",
    "    phonological outputs (EOS patterns), or frequencies.\n",
    "\n",
    "    Parameters\n",
    "    ----------\n",
    "    data : dict\n",
    "        A data containing the appropriately structured words and\n",
    "        their representations.\n",
    "    \n",
    "    word : str\n",
    "        A string of letters indexing a word present in data.\n",
    "\n",
    "    representation : str\n",
    "        The specification for the type of representation/ data\n",
    "        one wished to extract from data[word]. There are four\n",
    "        possibilities. \"phon_output\" (the default) is a list\n",
    "        comprising the model's phonological output representation.\n",
    "        \"phon_input\" is a list comprising the model's phonological\n",
    "        (i.e., decoder) input representation. \"orth\" is a list\n",
    "        comprising the model's orthographic (i.e., encoder) input.\n",
    "        \"frequency\" is an integer that is the frequency (k-smoothed)\n",
    "        used during training.\n",
    "    \n",
    "    Output\n",
    "    ------\n",
    "    list or int\n",
    "        The output format is contingent upon the specification for\n",
    "        the representation parameter.\n",
    "    \n",
    "    \n",
    "    \"\"\"\n",
    "    \n",
    "    if representation == 'phon_output':\n",
    "        representation = 'phonEOS'\n",
    "    if representation == 'phon_input':\n",
    "        representation = 'phonSOS'\n",
    "\n",
    "    return data[word][representation]\n"
   ]
  },
  {
   "cell_type": "markdown",
   "metadata": {},
   "source": [
    "# Example\n",
    "Here I access the frequency of the word \"the\"."
   ]
  },
  {
   "cell_type": "code",
   "execution_count": 13,
   "metadata": {},
   "outputs": [
    {
     "data": {
      "text/plain": [
       "23099035"
      ]
     },
     "execution_count": 13,
     "metadata": {},
     "output_type": "execute_result"
    }
   ],
   "source": [
    "get(REPS, 'the', representation='frequency')"
   ]
  },
  {
   "cell_type": "markdown",
   "metadata": {},
   "source": [
    "Here I get the phonological output for that same word."
   ]
  },
  {
   "cell_type": "code",
   "execution_count": 14,
   "metadata": {},
   "outputs": [
    {
     "data": {
      "text/plain": [
       "[[0,\n",
       "  1,\n",
       "  0,\n",
       "  0,\n",
       "  0,\n",
       "  0,\n",
       "  0,\n",
       "  1,\n",
       "  0,\n",
       "  0,\n",
       "  0,\n",
       "  0,\n",
       "  0,\n",
       "  0,\n",
       "  1,\n",
       "  0,\n",
       "  0,\n",
       "  0,\n",
       "  0,\n",
       "  0,\n",
       "  0,\n",
       "  0,\n",
       "  0,\n",
       "  0,\n",
       "  0,\n",
       "  0,\n",
       "  0,\n",
       "  0,\n",
       "  0,\n",
       "  0,\n",
       "  0,\n",
       "  0,\n",
       "  0],\n",
       " [0,\n",
       "  0,\n",
       "  0,\n",
       "  0,\n",
       "  0,\n",
       "  0,\n",
       "  0,\n",
       "  0,\n",
       "  0,\n",
       "  0,\n",
       "  0,\n",
       "  0,\n",
       "  0,\n",
       "  0,\n",
       "  1,\n",
       "  0,\n",
       "  1,\n",
       "  0,\n",
       "  0,\n",
       "  0,\n",
       "  0,\n",
       "  1,\n",
       "  0,\n",
       "  0,\n",
       "  0,\n",
       "  0,\n",
       "  0,\n",
       "  0,\n",
       "  0,\n",
       "  0,\n",
       "  0,\n",
       "  0,\n",
       "  0],\n",
       " [0,\n",
       "  0,\n",
       "  0,\n",
       "  0,\n",
       "  0,\n",
       "  0,\n",
       "  0,\n",
       "  0,\n",
       "  0,\n",
       "  0,\n",
       "  0,\n",
       "  0,\n",
       "  0,\n",
       "  0,\n",
       "  0,\n",
       "  0,\n",
       "  0,\n",
       "  0,\n",
       "  0,\n",
       "  0,\n",
       "  0,\n",
       "  0,\n",
       "  0,\n",
       "  0,\n",
       "  0,\n",
       "  0,\n",
       "  0,\n",
       "  0,\n",
       "  0,\n",
       "  0,\n",
       "  0,\n",
       "  0,\n",
       "  1]]"
      ]
     },
     "execution_count": 14,
     "metadata": {},
     "output_type": "execute_result"
    }
   ],
   "source": [
    "get(REPS, 'the', representation='phon_output')"
   ]
  }
 ],
 "metadata": {
  "kernelspec": {
   "display_name": "p39",
   "language": "python",
   "name": "python3"
  },
  "language_info": {
   "codemirror_mode": {
    "name": "ipython",
    "version": 3
   },
   "file_extension": ".py",
   "mimetype": "text/x-python",
   "name": "python",
   "nbconvert_exporter": "python",
   "pygments_lexer": "ipython3",
   "version": "3.9.18"
  }
 },
 "nbformat": 4,
 "nbformat_minor": 2
}
